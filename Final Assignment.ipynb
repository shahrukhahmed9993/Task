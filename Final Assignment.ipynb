{
 "cells": [
  {
   "cell_type": "markdown",
   "metadata": {},
   "source": [
    "# Python Programming Assignment 1 Quarter I: AI-101 Fundamentals of Programming using Python First Quarter 2019 (12 Weeks)"
   ]
  },
  {
   "cell_type": "markdown",
   "metadata": {},
   "source": [
    "### 1. Calculate Area of a Circle"
   ]
  },
  {
   "cell_type": "code",
   "execution_count": 1,
   "metadata": {},
   "outputs": [
    {
     "name": "stdout",
     "output_type": "stream",
     "text": [
      "Input the radius of the circle : 0.5\n",
      "The area of the circle with radius 0.5 is: 0.7853981633974483\n"
     ]
    }
   ],
   "source": [
    "from math import pi\n",
    "r = float(input (\"Input the radius of the circle : \"))\n",
    "print (\"The area of the circle with radius \" + str(r) + \" is: \" + str(pi * r**2))"
   ]
  },
  {
   "cell_type": "markdown",
   "metadata": {},
   "source": [
    "### 2. Check Number either positive, negative or zero"
   ]
  },
  {
   "cell_type": "code",
   "execution_count": 2,
   "metadata": {},
   "outputs": [
    {
     "name": "stdout",
     "output_type": "stream",
     "text": [
      "Enter a number: -1\n",
      "Negative number\n"
     ]
    }
   ],
   "source": [
    "num = float(input(\"Enter a number: \"))\n",
    "if num > 0:\n",
    "    print(\"Positive number\")\n",
    "elif num == 0:\n",
    "    print(\"Zero\")\n",
    "else:\n",
    "    print(\"Negative number\")"
   ]
  },
  {
   "cell_type": "code",
   "execution_count": 3,
   "metadata": {},
   "outputs": [
    {
     "name": "stdout",
     "output_type": "stream",
     "text": [
      "Enter a number: 3\n",
      "Positive number\n"
     ]
    }
   ],
   "source": [
    "num = float(input(\"Enter a number: \"))\n",
    "if num > 0:\n",
    "    print(\"Positive number\")\n",
    "elif num == 0:\n",
    "    print(\"Zero Entered\")\n",
    "else:\n",
    "    print(\"Negative number\")"
   ]
  },
  {
   "cell_type": "code",
   "execution_count": 4,
   "metadata": {
    "scrolled": true
   },
   "outputs": [
    {
     "name": "stdout",
     "output_type": "stream",
     "text": [
      "Enter a number: 0\n",
      "Zero Entered\n"
     ]
    }
   ],
   "source": [
    "num = float(input(\"Enter a number: \"))\n",
    "if num > 0:\n",
    "    print(\"Positive number\")\n",
    "elif num == 0:\n",
    "    print(\"Zero Entered\")\n",
    "else:\n",
    "    print(\"Negative number\")"
   ]
  },
  {
   "cell_type": "markdown",
   "metadata": {},
   "source": [
    "### 3. Divisibility Check of two numbers"
   ]
  },
  {
   "cell_type": "code",
   "execution_count": 5,
   "metadata": {},
   "outputs": [
    {
     "name": "stdout",
     "output_type": "stream",
     "text": [
      "Enter a number: 4\n",
      "Enter a number: 2\n",
      "Number 4.0 is Completely divisible by: 2.0\n"
     ]
    }
   ],
   "source": [
    "m = float(input(\"Enter a number: \"))\n",
    "n = float(input(\"Enter a number: \"))\n",
    "if m % n == 0:\n",
    "    print(\"Number \" + str(m) + \" is Completely divisible by: \" + str(n))\n",
    "else:\n",
    "    print(\"Number \" +str(m) + \" is not Completely divisible by \" +str(n))"
   ]
  },
  {
   "cell_type": "code",
   "execution_count": 6,
   "metadata": {},
   "outputs": [
    {
     "name": "stdout",
     "output_type": "stream",
     "text": [
      "Enter a number: 7\n",
      "Enter a number: 4\n",
      "Number 7.0 is not Completely divisible by 4.0\n"
     ]
    }
   ],
   "source": [
    "m = float(input(\"Enter a number: \"))\n",
    "n = float(input(\"Enter a number: \"))\n",
    "if m % n == 0:\n",
    "    print(\"Number \" + str(m) + \" is Completely divisible by: \" + str(n))\n",
    "else:\n",
    "    print(\"Number \" +str(m) + \" is not Completely divisible by \" +str(n))"
   ]
  },
  {
   "cell_type": "markdown",
   "metadata": {},
   "source": [
    "### 4. Days Calculator"
   ]
  },
  {
   "cell_type": "code",
   "execution_count": null,
   "metadata": {},
   "outputs": [
    {
     "name": "stdout",
     "output_type": "stream",
     "text": [
      "Enter a date in (dd/mm/yy) format: 12/12/2018\n",
      "Enter a date in (dd/mm/yy) format: 16/12/2018\n",
      "There are 4 days in between 12/12/2018 and: 16/12/2018\n"
     ]
    }
   ],
   "source": [
    "import datetime\n",
    "from datetime import date\n",
    "def days_in_date(dta, dtb):\n",
    "    first_date = datetime.datetime.strptime(dta,  \"%d/%m/%Y\")\n",
    "    last_date = datetime.datetime.strptime(dtb,  \"%d/%m/%Y\")\n",
    "    return abs((last_date - first_date).days)\n",
    "while True:\n",
    "    first_date = input(\"Enter a date in (dd/mm/yy) format: \")\n",
    "    last_date = input(\"Enter a date in (dd/mm/yy) format: \")\n",
    "    print(\"There are \" + str(days_in_date(first_date, last_date)) + \" days in between \" + first_date + \" and: \" +last_date )"
   ]
  },
  {
   "cell_type": "markdown",
   "metadata": {},
   "source": [
    "### 5. Calculate Volume of a sphere"
   ]
  },
  {
   "cell_type": "code",
   "execution_count": 5,
   "metadata": {},
   "outputs": [
    {
     "name": "stdout",
     "output_type": "stream",
     "text": [
      "Input the Radius of the Sphere : 1\n",
      "The area of the circle with radius 1.0 is: 4.19\n"
     ]
    }
   ],
   "source": [
    "from math import pi\n",
    "r = float(input (\"Input the Radius of the Sphere : \"))\n",
    "print (\"The area of the circle with radius \" + str(r) + \" is: \" \"%.2f\" % +((4/3) * (pi * r ** 3)))"
   ]
  },
  {
   "cell_type": "markdown",
   "metadata": {},
   "source": [
    "###  6. Copy string n times"
   ]
  },
  {
   "cell_type": "code",
   "execution_count": 1,
   "metadata": {},
   "outputs": [
    {
     "name": "stdout",
     "output_type": "stream",
     "text": [
      "Enter String :Hi\n",
      "Number of copies: 4\n",
      "4 copies of Hi are HiHiHiHi\n"
     ]
    }
   ],
   "source": [
    "string= str(input(\"Enter String :\"))\n",
    "num = int(input(\"Number of copies: \"))\n",
    "result= string * num\n",
    "print(f\"{num} copies of {string} are {result}\")"
   ]
  },
  {
   "cell_type": "markdown",
   "metadata": {},
   "source": [
    "### 7. Check if number is Even or Odd"
   ]
  },
  {
   "cell_type": "code",
   "execution_count": 2,
   "metadata": {},
   "outputs": [
    {
     "name": "stdout",
     "output_type": "stream",
     "text": [
      "Enter the Number: 9\n",
      "9 is Odd\n"
     ]
    }
   ],
   "source": [
    "num = int(input(\"Enter the Number: \"))\n",
    "if num % 2 == 0:\n",
    "    print(f\"{num} is Even\")\n",
    "else:\n",
    "    print(f\"{num} is Odd\")"
   ]
  },
  {
   "cell_type": "code",
   "execution_count": 3,
   "metadata": {},
   "outputs": [
    {
     "name": "stdout",
     "output_type": "stream",
     "text": [
      "Enter the Number: 4\n",
      "4 is Even\n"
     ]
    }
   ],
   "source": [
    "num = int(input(\"Enter the Number: \"))\n",
    "if num % 2 == 0:\n",
    "    print(f\"{num} is Even\")\n",
    "else:\n",
    "    print(f\"{num} is Odd\")"
   ]
  },
  {
   "cell_type": "markdown",
   "metadata": {},
   "source": [
    "### 8. Vowel Tester"
   ]
  },
  {
   "cell_type": "code",
   "execution_count": 4,
   "metadata": {},
   "outputs": [
    {
     "name": "stdout",
     "output_type": "stream",
     "text": [
      "Enter the letter: A\n",
      "A is a Vowel\n"
     ]
    }
   ],
   "source": [
    "char = input(\"Enter the letter: \")\n",
    "if (char=='A' or char=='a' or char=='E' or char=='e' or char=='I' or char=='i' or char=='O' or char=='o' or char=='U' or char=='u'):\n",
    "    print(f\"{char} is a Vowel\")\n",
    "else:\n",
    "    print(f\"{char} is not a Vowel\")"
   ]
  },
  {
   "cell_type": "code",
   "execution_count": 5,
   "metadata": {},
   "outputs": [
    {
     "name": "stdout",
     "output_type": "stream",
     "text": [
      "Enter the letter: e\n",
      "e is a Vowel\n"
     ]
    }
   ],
   "source": [
    "char = input(\"Enter the letter: \")\n",
    "if (char=='A' or char=='a' or char=='E' or char=='e' or char=='I' or char=='i' or char=='O' or char=='o' or char=='U' or char=='u'):\n",
    "    print(f\"{char} is a Vowel\")\n",
    "else:\n",
    "    print(f\"{char} is not a Vowel\")"
   ]
  },
  {
   "cell_type": "code",
   "execution_count": 6,
   "metadata": {},
   "outputs": [
    {
     "name": "stdout",
     "output_type": "stream",
     "text": [
      "Enter the letter: N\n",
      "N is not a Vowel\n"
     ]
    }
   ],
   "source": [
    "char = input(\"Enter the letter: \")\n",
    "if (char=='A' or char=='a' or char=='E' or char=='e' or char=='I' or char=='i' or char=='O' or char=='o' or char=='U' or char=='u'):\n",
    "    print(f\"{char} is a Vowel\")\n",
    "else:\n",
    "    print(f\"{char} is not a Vowel\")"
   ]
  },
  {
   "cell_type": "markdown",
   "metadata": {},
   "source": [
    "### 9. Triangle area"
   ]
  },
  {
   "cell_type": "code",
   "execution_count": 7,
   "metadata": {},
   "outputs": [
    {
     "name": "stdout",
     "output_type": "stream",
     "text": [
      "Enter the magnitude of Triangle base :4\n",
      "Enter the magnitude of Triangle height :4\n",
      "Area of Triangle with Height 4 and Base 4 is 8.0\n"
     ]
    }
   ],
   "source": [
    "b = int(input(\"Enter the magnitude of Triangle base :\"))\n",
    "h = int(input(\"Enter the magnitude of Triangle height :\"))\n",
    "area = b * h / 2\n",
    "print(f\"Area of Triangle with Height {h} and Base {b} is {area}\")"
   ]
  },
  {
   "cell_type": "markdown",
   "metadata": {},
   "source": [
    "### 10. Calculate Interest "
   ]
  },
  {
   "cell_type": "code",
   "execution_count": 8,
   "metadata": {},
   "outputs": [
    {
     "name": "stdout",
     "output_type": "stream",
     "text": [
      "Please enter principal amount: 10000\n",
      "Please enter rate of interest in %: 0.1\n",
      "Enter number of years for investment: 5\n",
      "After 5.0 years your principal amount 10000.0 over an interest of 0.1% will be 10050.0\n"
     ]
    }
   ],
   "source": [
    "amnt = float(input(\"Please enter principal amount: \"))\n",
    "rate = float(input(\"Please enter rate of interest in %: \"))\n",
    "years = float(input(\"Enter number of years for investment: \"))\n",
    "r = rate/100\n",
    "value = amnt*rate*years/100\n",
    "value = value + amnt\n",
    "print(f\"After {years} years your principal amount {amnt} over an interest of {rate}% will be {value}\")"
   ]
  },
  {
   "cell_type": "markdown",
   "metadata": {},
   "source": [
    "### 11. Euclidean Distance"
   ]
  },
  {
   "cell_type": "code",
   "execution_count": 10,
   "metadata": {},
   "outputs": [
    {
     "name": "stdout",
     "output_type": "stream",
     "text": [
      "Enter Co-ordinate for x1: 2\n",
      "Enter Co-ordinate for x2: 4\n",
      "Enter Co-ordinate for y1: 4\n",
      "Enter Co-ordinate for y2: 4\n",
      "Distance between points (2,4) and (4,4) is 2.0\n"
     ]
    }
   ],
   "source": [
    "import math\n",
    "x1 = int(input(\"Enter Co-ordinate for x1: \"))\n",
    "x2 = int(input(\"Enter Co-ordinate for x2: \"))\n",
    "y1 = int(input(\"Enter Co-ordinate for y1: \"))\n",
    "y2 = int(input(\"Enter Co-ordinate for y2: \"))\n",
    "distance = math.sqrt(((x1 - x2)** 2)+((y1 - y2)** 2))\n",
    "print(f\"Distance between points ({x1},{x2}) and ({y1},{y2}) is {distance}\")"
   ]
  },
  {
   "cell_type": "markdown",
   "metadata": {},
   "source": [
    "### 12. Feet to Centimeter Converter"
   ]
  },
  {
   "cell_type": "code",
   "execution_count": 11,
   "metadata": {},
   "outputs": [
    {
     "name": "stdout",
     "output_type": "stream",
     "text": [
      "Enter height in Feet: 5\n",
      "There are 152.4 cm in 5 ft\n"
     ]
    }
   ],
   "source": [
    "ft = int(input(\"Enter height in Feet: \"))\n",
    "cm = ft * 30.48\n",
    "print(f\"There are {cm} cm in {ft} ft\")"
   ]
  },
  {
   "cell_type": "markdown",
   "metadata": {},
   "source": [
    "### 13. BMI Calculator"
   ]
  },
  {
   "cell_type": "code",
   "execution_count": 12,
   "metadata": {},
   "outputs": [
    {
     "name": "stdout",
     "output_type": "stream",
     "text": [
      "Enter Height in Cm: 180\n",
      "Enter Weight in Kg: 75\n",
      "Your BMI is 23.15\n"
     ]
    }
   ],
   "source": [
    "height = float(input(\"Enter Height in Cm: \"))\n",
    "weight = float(input(\"Enter Weight in Kg: \"))\n",
    "BMI = round(weight/((height/100)**2),2)\n",
    "print(f\"Your BMI is {BMI}\")"
   ]
  },
  {
   "cell_type": "markdown",
   "metadata": {},
   "source": [
    "### 14. Sum of n Positive Integers"
   ]
  },
  {
   "cell_type": "code",
   "execution_count": 13,
   "metadata": {},
   "outputs": [
    {
     "name": "stdout",
     "output_type": "stream",
     "text": [
      "Enter value of n: 5\n",
      "Sum of n Positive Integers till 5 is 15.0\n"
     ]
    }
   ],
   "source": [
    "num = int(input(\"Enter value of n: \"))\n",
    "result = (num * (num + 1)) / 2\n",
    "print(f\"Sum of n Positive Integers till {num} is\",result)"
   ]
  },
  {
   "cell_type": "markdown",
   "metadata": {},
   "source": [
    "### 15. Digits Sum of a Number"
   ]
  },
  {
   "cell_type": "code",
   "execution_count": 14,
   "metadata": {},
   "outputs": [
    {
     "name": "stdout",
     "output_type": "stream",
     "text": [
      "Enter a number: 15\n",
      "Sum is 6\n"
     ]
    }
   ],
   "source": [
    "num = int(input(\"Enter a number: \"))\n",
    "total = 0\n",
    "while(num > 0):\n",
    "    digit = num % 10\n",
    "    total = total + digit\n",
    "    num = num // 10\n",
    "print(f\"Sum is {total}\")"
   ]
  },
  {
   "cell_type": "code",
   "execution_count": 15,
   "metadata": {},
   "outputs": [
    {
     "name": "stdout",
     "output_type": "stream",
     "text": [
      "Enter a number: 1234\n",
      "Sum is 10\n"
     ]
    }
   ],
   "source": [
    "num = int(input(\"Enter a number: \"))\n",
    "total = 0\n",
    "while(num > 0):\n",
    "    digit = num % 10\n",
    "    total = total + digit\n",
    "    num = num // 10\n",
    "print(f\"Sum is {total}\")"
   ]
  },
  {
   "cell_type": "markdown",
   "metadata": {},
   "source": [
    "### 16. Decimal to Binary Converter"
   ]
  },
  {
   "cell_type": "code",
   "execution_count": 16,
   "metadata": {},
   "outputs": [
    {
     "name": "stdout",
     "output_type": "stream",
     "text": [
      "Enter a decimal number: 5\n",
      "101"
     ]
    }
   ],
   "source": [
    "def DecimalToBinary(num):\n",
    "    if num > 1:\n",
    "        DecimalToBinary(num // 2)\n",
    "    print(num % 2, end='')\n",
    "dec = int(input(\"Enter a decimal number: \"))\n",
    "DecimalToBinary(dec)"
   ]
  },
  {
   "cell_type": "code",
   "execution_count": 17,
   "metadata": {},
   "outputs": [
    {
     "name": "stdout",
     "output_type": "stream",
     "text": [
      "Enter a decimal number: 32\n",
      "100000"
     ]
    }
   ],
   "source": [
    "def DecimalToBinary(num):\n",
    "    if num > 1:\n",
    "        DecimalToBinary(num // 2)\n",
    "    print(num % 2, end='')\n",
    "dec = int(input(\"Enter a decimal number: \"))\n",
    "DecimalToBinary(dec)"
   ]
  },
  {
   "cell_type": "markdown",
   "metadata": {},
   "source": [
    "### 17. Binary to Decimal Converter"
   ]
  },
  {
   "cell_type": "code",
   "execution_count": 18,
   "metadata": {},
   "outputs": [
    {
     "name": "stdout",
     "output_type": "stream",
     "text": [
      "Enter a Binary number: 1101\n",
      "Decimal Representation of 1101 is 13\n"
     ]
    }
   ],
   "source": [
    "def binaryToDecimal(binary): \n",
    "    decimal, i= 0, 0\n",
    "    while(binary != 0): \n",
    "        rem = binary % 10\n",
    "        decimal = decimal + rem * pow(2, i) \n",
    "        binary = binary//10\n",
    "        i += 1\n",
    "    print(f\"Decimal Representation of {num} is \" +str(decimal))     \n",
    "      \n",
    "  \n",
    "if __name__ == '__main__': \n",
    "    num = int(input(\"Enter a Binary number: \"))\n",
    "    binaryToDecimal(num)"
   ]
  },
  {
   "cell_type": "code",
   "execution_count": 19,
   "metadata": {},
   "outputs": [
    {
     "name": "stdout",
     "output_type": "stream",
     "text": [
      "Enter a Binary number: 1001\n",
      "Decimal Representation of 1001 is 9\n"
     ]
    }
   ],
   "source": [
    "def binaryToDecimal(binary): \n",
    "    decimal, i= 0, 0\n",
    "    while(binary != 0): \n",
    "        rem = binary % 10\n",
    "        decimal = decimal + rem * pow(2, i) \n",
    "        binary = binary//10\n",
    "        i += 1\n",
    "    print(f\"Decimal Representation of {num} is \" +str(decimal))     \n",
    "      \n",
    "  \n",
    "if __name__ == '__main__': \n",
    "    num = int(input(\"Enter a Binary number: \"))\n",
    "    binaryToDecimal(num)"
   ]
  },
  {
   "cell_type": "markdown",
   "metadata": {},
   "source": [
    "### 18. Vowel and Consonants Counter "
   ]
  },
  {
   "cell_type": "code",
   "execution_count": 20,
   "metadata": {},
   "outputs": [
    {
     "name": "stdout",
     "output_type": "stream",
     "text": [
      "Enter text: QuickBrownFoxJumpsovertheDog\n",
      "Vowels: 9\n",
      "Consonants: 19\n"
     ]
    }
   ],
   "source": [
    "text = str(input(\"Enter text: \"))\n",
    "vowels = 0\n",
    "consonants = 0\n",
    "\n",
    "for i in text:\n",
    "    if(i=='A' or i=='a' or i=='E' or i=='e' or i=='I' or i=='i' or i=='O' or i=='o' or i=='U' or i=='u'):\n",
    "        vowels = vowels + 1\n",
    "    else:\n",
    "        consonants = consonants + 1\n",
    "print(f\"Vowels: {vowels}\")\n",
    "print(f\"Consonants: {consonants}\")"
   ]
  },
  {
   "cell_type": "markdown",
   "metadata": {},
   "source": [
    "### 19. Palindrome Tester"
   ]
  },
  {
   "cell_type": "code",
   "execution_count": 21,
   "metadata": {},
   "outputs": [
    {
     "name": "stdout",
     "output_type": "stream",
     "text": [
      "Enter text: AHA\n",
      "Text aha is Palindrome\n"
     ]
    }
   ],
   "source": [
    "text = str(input(\"Enter text: \"))\n",
    "text = text.casefold()\n",
    "\n",
    "rtext = reversed(text)\n",
    "if list(text) == list(rtext):\n",
    "    print(f\"Text {text} is Palindrome\")\n",
    "else:\n",
    "    print(f\"Text {text} is not a Palindrome\")"
   ]
  },
  {
   "cell_type": "code",
   "execution_count": 22,
   "metadata": {},
   "outputs": [
    {
     "name": "stdout",
     "output_type": "stream",
     "text": [
      "Enter text: Hello\n",
      "Text hello is not a Palindrome\n"
     ]
    }
   ],
   "source": [
    "text = str(input(\"Enter text: \"))\n",
    "text = text.casefold()\n",
    "\n",
    "rtext = reversed(text)\n",
    "if list(text) == list(rtext):\n",
    "    print(f\"Text {text} is Palindrome\")\n",
    "else:\n",
    "    print(f\"Text {text} is not a Palindrome\")"
   ]
  },
  {
   "cell_type": "markdown",
   "metadata": {},
   "source": [
    "### 20. Count Alphabets, Numbers and Special Characters"
   ]
  },
  {
   "cell_type": "code",
   "execution_count": 23,
   "metadata": {},
   "outputs": [
    {
     "name": "stdout",
     "output_type": "stream",
     "text": [
      "Enter text: Python 3.2\n",
      "\n",
      "Alphabets :   6\n",
      "Numbers :   2\n",
      "Spaces : 1\n",
      "Special Characters :  1\n"
     ]
    }
   ],
   "source": [
    "text = str(input(\"Enter text: \"))\n",
    "n=a=sc=sp=0\n",
    "for i in text:\n",
    "    if i.isdigit():\n",
    "        n=n+1\n",
    "    elif i.isalpha():\n",
    "        a=a+1\n",
    "    elif i.isspace():\n",
    "        sp=sp+1\n",
    "    else:\n",
    "        sc=sc+1\n",
    "        \n",
    "print(\"\\nAlphabets :  \", a)\n",
    "print(\"Numbers :  \", n)\n",
    "print(\"Spaces :\", sp)\n",
    "print(\"Special Characters : \", sc)"
   ]
  },
  {
   "cell_type": "code",
   "execution_count": 24,
   "metadata": {},
   "outputs": [
    {
     "name": "stdout",
     "output_type": "stream",
     "text": [
      "\n",
      "* \n",
      "* * \n",
      "* * * \n",
      "* * * * \n",
      "* * * * * \n",
      "* * * * \n",
      "* * * \n",
      "* * \n",
      "* \n"
     ]
    }
   ],
   "source": [
    "n=5\n",
    "for i in range(n):\n",
    "    for j in range(i):\n",
    "        print('* ', end=\"\")\n",
    "    print('')\n",
    "        \n",
    "for i in range(n,0,-1):\n",
    "    for j in range(i):\n",
    "        print('* ', end=\"\")\n",
    "    print('')"
   ]
  },
  {
   "cell_type": "code",
   "execution_count": 25,
   "metadata": {},
   "outputs": [
    {
     "name": "stdout",
     "output_type": "stream",
     "text": [
      "Enter a number: 5\n",
      "1\n",
      "12\n",
      "123\n",
      "1234\n",
      "12345\n",
      "1234\n",
      "123\n",
      "12\n",
      "1\n"
     ]
    }
   ],
   "source": [
    "n = int(input(\"Enter a number: \"))\n",
    "for i in range(1,n):\n",
    "    for j in range(1,i+1):\n",
    "        print(j,end=\"\")\n",
    "    print('')\n",
    "    \n",
    "for i in range(n,0,-1):\n",
    "    for j in range(1,i+1):\n",
    "        print(j,end=\"\")\n",
    "    print('')"
   ]
  },
  {
   "cell_type": "code",
   "execution_count": 26,
   "metadata": {},
   "outputs": [
    {
     "name": "stdout",
     "output_type": "stream",
     "text": [
      "Enter the number of row: 9\n",
      "1\n",
      "22\n",
      "333\n",
      "4444\n",
      "55555\n",
      "666666\n",
      "7777777\n",
      "88888888\n",
      "999999999\n"
     ]
    }
   ],
   "source": [
    "n = int(input(\"Enter the number of row: \"))\n",
    "count=1\n",
    "for row in range(1,n+1):\n",
    "    for col in range(1,row+count):\n",
    "        print(row,end=\"\")\n",
    "    print('')"
   ]
  },
  {
   "cell_type": "code",
   "execution_count": null,
   "metadata": {},
   "outputs": [],
   "source": []
  }
 ],
 "metadata": {
  "kernelspec": {
   "display_name": "Python 3",
   "language": "python",
   "name": "python3"
  },
  "language_info": {
   "codemirror_mode": {
    "name": "ipython",
    "version": 3
   },
   "file_extension": ".py",
   "mimetype": "text/x-python",
   "name": "python",
   "nbconvert_exporter": "python",
   "pygments_lexer": "ipython3",
   "version": "3.7.1"
  }
 },
 "nbformat": 4,
 "nbformat_minor": 2
}
