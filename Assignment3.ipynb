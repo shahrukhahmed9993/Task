{
 "cells": [
  {
   "cell_type": "markdown",
   "metadata": {},
   "source": [
    "# A] Methods of Dictionary"
   ]
  },
  {
   "cell_type": "code",
   "execution_count": 19,
   "metadata": {},
   "outputs": [
    {
     "name": "stdout",
     "output_type": "stream",
     "text": [
      "{'class': 'AI', 'centre': 'boys scout', 'timing': '6:45 to 9:45'}\n"
     ]
    }
   ],
   "source": [
    "class_details = {'class' : 'AI' , 'centre' : 'boys scout' , 'timing' : '6:45 to 9:45' }\n",
    "print(class_details)"
   ]
  },
  {
   "cell_type": "code",
   "execution_count": 8,
   "metadata": {},
   "outputs": [
    {
     "name": "stdout",
     "output_type": "stream",
     "text": [
      "{'class': 'AI', 'centre': 'boys scout', 'timing': '6:45 to 9:45'}\n"
     ]
    }
   ],
   "source": [
    "# make a shallow copy of the existing dictionary\n",
    "copy = class_details.copy()\n",
    "print(copy)"
   ]
  },
  {
   "cell_type": "code",
   "execution_count": 9,
   "metadata": {},
   "outputs": [
    {
     "data": {
      "text/plain": [
       "{'class': 'enter details',\n",
       " 'centre': 'enter details',\n",
       " 'timing': 'enter details'}"
      ]
     },
     "execution_count": 9,
     "metadata": {},
     "output_type": "execute_result"
    }
   ],
   "source": [
    "#replaces all key values with specified string.\n",
    "more = 'enter details'\n",
    "class_details.fromkeys(class_details,more)"
   ]
  },
  {
   "cell_type": "code",
   "execution_count": 10,
   "metadata": {},
   "outputs": [
    {
     "data": {
      "text/plain": [
       "'6:45 to 9:45'"
      ]
     },
     "execution_count": 10,
     "metadata": {},
     "output_type": "execute_result"
    }
   ],
   "source": [
    "#give the value of the item asked.\n",
    "class_details.get('timing')"
   ]
  },
  {
   "cell_type": "code",
   "execution_count": 11,
   "metadata": {},
   "outputs": [
    {
     "data": {
      "text/plain": [
       "dict_items([('class', 'AI'), ('centre', 'boys scout'), ('timing', '6:45 to 9:45')])"
      ]
     },
     "execution_count": 11,
     "metadata": {},
     "output_type": "execute_result"
    }
   ],
   "source": [
    "#returns list of all the items.\n",
    "class_details.items()"
   ]
  },
  {
   "cell_type": "code",
   "execution_count": 12,
   "metadata": {},
   "outputs": [
    {
     "data": {
      "text/plain": [
       "dict_keys(['class', 'centre', 'timing'])"
      ]
     },
     "execution_count": 12,
     "metadata": {},
     "output_type": "execute_result"
    }
   ],
   "source": [
    "#returns all the keys of dictionaries.\n",
    "class_details.keys()"
   ]
  },
  {
   "cell_type": "code",
   "execution_count": 13,
   "metadata": {},
   "outputs": [
    {
     "data": {
      "text/plain": [
       "'boys scout'"
      ]
     },
     "execution_count": 13,
     "metadata": {},
     "output_type": "execute_result"
    }
   ],
   "source": [
    "#pop out the value of specified key.\n",
    "class_details.pop('centre')"
   ]
  },
  {
   "cell_type": "code",
   "execution_count": 14,
   "metadata": {},
   "outputs": [
    {
     "data": {
      "text/plain": [
       "('timing', '6:45 to 9:45')"
      ]
     },
     "execution_count": 14,
     "metadata": {},
     "output_type": "execute_result"
    }
   ],
   "source": [
    "#pop out the last item of the dictionary.\n",
    "class_details.popitem()"
   ]
  },
  {
   "cell_type": "code",
   "execution_count": 15,
   "metadata": {},
   "outputs": [
    {
     "data": {
      "text/plain": [
       "'AI'"
      ]
     },
     "execution_count": 15,
     "metadata": {},
     "output_type": "execute_result"
    }
   ],
   "source": [
    "class_details.setdefault('class')\n"
   ]
  },
  {
   "cell_type": "code",
   "execution_count": 16,
   "metadata": {},
   "outputs": [
    {
     "name": "stdout",
     "output_type": "stream",
     "text": [
      "{'class': 'AI', 'centre': 'boys scout', 'timing': '6.45 to 9.45', 'initiative': 'President of Pakistan'}\n"
     ]
    }
   ],
   "source": [
    "#update the dictionary by adding specified item.\n",
    "class_details = {'class' : 'AI' , 'centre' : 'boys scout' , 'timing' : '6.45 to 9.45' }\n",
    "class_details.update({'initiative' : 'President of Pakistan'})\n",
    "print(class_details)"
   ]
  },
  {
   "cell_type": "code",
   "execution_count": 17,
   "metadata": {},
   "outputs": [
    {
     "data": {
      "text/plain": [
       "dict_values(['AI', 'boys scout', '6.45 to 9.45', 'President of Pakistan'])"
      ]
     },
     "execution_count": 17,
     "metadata": {},
     "output_type": "execute_result"
    }
   ],
   "source": [
    "#returns all the values of dictionary.\n",
    "class_details.values()"
   ]
  },
  {
   "cell_type": "code",
   "execution_count": 18,
   "metadata": {},
   "outputs": [
    {
     "name": "stdout",
     "output_type": "stream",
     "text": [
      "{}\n"
     ]
    }
   ],
   "source": [
    "#delete all items of the dictionary.\n",
    "class_details.clear()\n",
    "print(class_details)"
   ]
  },
  {
   "cell_type": "markdown",
   "metadata": {},
   "source": [
    "# B] Methods of Tuple"
   ]
  },
  {
   "cell_type": "code",
   "execution_count": 20,
   "metadata": {},
   "outputs": [
    {
     "data": {
      "text/plain": [
       "1"
      ]
     },
     "execution_count": 20,
     "metadata": {},
     "output_type": "execute_result"
    }
   ],
   "source": [
    "#returns the number of times the string repeats in tuple\n",
    "Tuple = ('apple','mango','orange','banana','grapes')\n",
    "Tuple.count('apple')"
   ]
  },
  {
   "cell_type": "code",
   "execution_count": 21,
   "metadata": {},
   "outputs": [
    {
     "data": {
      "text/plain": [
       "2"
      ]
     },
     "execution_count": 21,
     "metadata": {},
     "output_type": "execute_result"
    }
   ],
   "source": [
    "#returns the index of the given value of tuple\n",
    "Tuple.index('orange')"
   ]
  },
  {
   "cell_type": "markdown",
   "metadata": {},
   "source": [
    "# Dynamically printing Methods and Attributes"
   ]
  },
  {
   "cell_type": "code",
   "execution_count": 22,
   "metadata": {},
   "outputs": [
    {
     "name": "stdout",
     "output_type": "stream",
     "text": [
      "<method-wrapper '__add__' of str object at 0x00000280A5977C70>\n",
      "<class 'str'>\n",
      "<method-wrapper '__contains__' of str object at 0x00000280A5977C70>\n",
      "<method-wrapper '__delattr__' of str object at 0x00000280A5977C70>\n",
      "<built-in method __dir__ of str object at 0x00000280A5977C70>\n",
      "str(object='') -> str\n",
      "str(bytes_or_buffer[, encoding[, errors]]) -> str\n",
      "\n",
      "Create a new string object from the given object. If encoding or\n",
      "errors is specified, then the object must expose a data buffer\n",
      "that will be decoded using the given encoding and error handler.\n",
      "Otherwise, returns the result of object.__str__() (if defined)\n",
      "or repr(object).\n",
      "encoding defaults to sys.getdefaultencoding().\n",
      "errors defaults to 'strict'.\n",
      "<method-wrapper '__eq__' of str object at 0x00000280A5977C70>\n",
      "<built-in method __format__ of str object at 0x00000280A5977C70>\n",
      "<method-wrapper '__ge__' of str object at 0x00000280A5977C70>\n",
      "<method-wrapper '__getattribute__' of str object at 0x00000280A5977C70>\n",
      "<method-wrapper '__getitem__' of str object at 0x00000280A5977C70>\n",
      "<built-in method __getnewargs__ of str object at 0x00000280A5977C70>\n",
      "<method-wrapper '__gt__' of str object at 0x00000280A5977C70>\n",
      "<method-wrapper '__hash__' of str object at 0x00000280A5977C70>\n",
      "<method-wrapper '__init__' of str object at 0x00000280A5977C70>\n",
      "<built-in method __init_subclass__ of type object at 0x00007FFB2DA67050>\n",
      "<method-wrapper '__iter__' of str object at 0x00000280A5977C70>\n",
      "<method-wrapper '__le__' of str object at 0x00000280A5977C70>\n",
      "<method-wrapper '__len__' of str object at 0x00000280A5977C70>\n",
      "<method-wrapper '__lt__' of str object at 0x00000280A5977C70>\n",
      "<method-wrapper '__mod__' of str object at 0x00000280A5977C70>\n",
      "<method-wrapper '__mul__' of str object at 0x00000280A5977C70>\n",
      "<method-wrapper '__ne__' of str object at 0x00000280A5977C70>\n",
      "<built-in method __new__ of type object at 0x00007FFB2DA67050>\n",
      "<built-in method __reduce__ of str object at 0x00000280A5977C70>\n",
      "<built-in method __reduce_ex__ of str object at 0x00000280A5977C70>\n",
      "<method-wrapper '__repr__' of str object at 0x00000280A5977C70>\n",
      "<method-wrapper '__rmod__' of str object at 0x00000280A5977C70>\n",
      "<method-wrapper '__rmul__' of str object at 0x00000280A5977C70>\n",
      "<method-wrapper '__setattr__' of str object at 0x00000280A5977C70>\n",
      "<built-in method __sizeof__ of str object at 0x00000280A5977C70>\n",
      "<method-wrapper '__str__' of str object at 0x00000280A5977C70>\n",
      "<built-in method __subclasshook__ of type object at 0x00007FFB2DA67050>\n"
     ]
    }
   ],
   "source": [
    "#dynamicall printing attributes of string\n",
    "a = \"\"\n",
    "for x in dir(a)[:33]:\n",
    "    print(getattr(a,x))"
   ]
  },
  {
   "cell_type": "code",
   "execution_count": 23,
   "metadata": {},
   "outputs": [
    {
     "name": "stdout",
     "output_type": "stream",
     "text": [
      "count\n",
      "encode\n",
      "endswith\n",
      "expandtabs\n",
      "find\n",
      "format\n",
      "format_map\n",
      "index\n",
      "isalnum\n",
      "isalpha\n",
      "isascii\n",
      "isdecimal\n",
      "isdigit\n",
      "isidentifier\n",
      "islower\n",
      "isnumeric\n",
      "isprintable\n",
      "isspace\n",
      "istitle\n",
      "isupper\n",
      "join\n",
      "ljust\n",
      "lower\n",
      "lstrip\n",
      "maketrans\n",
      "partition\n",
      "replace\n",
      "rfind\n",
      "rindex\n",
      "rjust\n",
      "rpartition\n",
      "rsplit\n",
      "rstrip\n",
      "split\n",
      "splitlines\n",
      "startswith\n",
      "strip\n",
      "swapcase\n",
      "title\n",
      "translate\n",
      "upper\n",
      "zfill\n"
     ]
    }
   ],
   "source": [
    "#dynamically printing all methods of string\n",
    "a = \"\"\n",
    "for x in dir(a)[36:79]:\n",
    "    print(x)"
   ]
  },
  {
   "cell_type": "code",
   "execution_count": 24,
   "metadata": {},
   "outputs": [
    {
     "name": "stdout",
     "output_type": "stream",
     "text": [
      "<method-wrapper '__add__' of list object at 0x00000280A9F8D3C8>\n",
      "<class 'list'>\n",
      "<method-wrapper '__contains__' of list object at 0x00000280A9F8D3C8>\n",
      "<method-wrapper '__delattr__' of list object at 0x00000280A9F8D3C8>\n",
      "<method-wrapper '__delitem__' of list object at 0x00000280A9F8D3C8>\n",
      "<built-in method __dir__ of list object at 0x00000280A9F8D3C8>\n",
      "Built-in mutable sequence.\n",
      "\n",
      "If no argument is given, the constructor creates a new empty list.\n",
      "The argument must be an iterable if specified.\n",
      "<method-wrapper '__eq__' of list object at 0x00000280A9F8D3C8>\n",
      "<built-in method __format__ of list object at 0x00000280A9F8D3C8>\n",
      "<method-wrapper '__ge__' of list object at 0x00000280A9F8D3C8>\n",
      "<method-wrapper '__getattribute__' of list object at 0x00000280A9F8D3C8>\n",
      "<built-in method __getitem__ of list object at 0x00000280A9F8D3C8>\n",
      "<method-wrapper '__gt__' of list object at 0x00000280A9F8D3C8>\n",
      "None\n",
      "<method-wrapper '__iadd__' of list object at 0x00000280A9F8D3C8>\n",
      "<method-wrapper '__imul__' of list object at 0x00000280A9F8D3C8>\n",
      "<method-wrapper '__init__' of list object at 0x00000280A9F8D3C8>\n",
      "<built-in method __init_subclass__ of type object at 0x00007FFB2DA63D30>\n",
      "<method-wrapper '__iter__' of list object at 0x00000280A9F8D3C8>\n",
      "<method-wrapper '__le__' of list object at 0x00000280A9F8D3C8>\n",
      "<method-wrapper '__len__' of list object at 0x00000280A9F8D3C8>\n",
      "<method-wrapper '__lt__' of list object at 0x00000280A9F8D3C8>\n",
      "<method-wrapper '__mul__' of list object at 0x00000280A9F8D3C8>\n",
      "<method-wrapper '__ne__' of list object at 0x00000280A9F8D3C8>\n",
      "<built-in method __new__ of type object at 0x00007FFB2DA63D30>\n",
      "<built-in method __reduce__ of list object at 0x00000280A9F8D3C8>\n",
      "<built-in method __reduce_ex__ of list object at 0x00000280A9F8D3C8>\n",
      "<method-wrapper '__repr__' of list object at 0x00000280A9F8D3C8>\n",
      "<built-in method __reversed__ of list object at 0x00000280A9F8D3C8>\n",
      "<method-wrapper '__rmul__' of list object at 0x00000280A9F8D3C8>\n",
      "<method-wrapper '__setattr__' of list object at 0x00000280A9F8D3C8>\n",
      "<method-wrapper '__setitem__' of list object at 0x00000280A9F8D3C8>\n",
      "<built-in method __sizeof__ of list object at 0x00000280A9F8D3C8>\n",
      "<method-wrapper '__str__' of list object at 0x00000280A9F8D3C8>\n",
      "<built-in method __subclasshook__ of type object at 0x00007FFB2DA63D30>\n"
     ]
    }
   ],
   "source": [
    "#dynamically printing all attributes of list\n",
    "a = []\n",
    "for x in dir(a)[:35]:\n",
    "    print(getattr(a,x))"
   ]
  },
  {
   "cell_type": "code",
   "execution_count": 25,
   "metadata": {},
   "outputs": [
    {
     "name": "stdout",
     "output_type": "stream",
     "text": [
      "clear\n",
      "copy\n",
      "count\n",
      "extend\n",
      "index\n",
      "insert\n",
      "pop\n",
      "remove\n",
      "reverse\n",
      "sort\n"
     ]
    }
   ],
   "source": [
    "#dynamically printing all methods of list\n",
    "a = []\n",
    "for x in dir(a)[36:47]:\n",
    "    print(x)"
   ]
  },
  {
   "cell_type": "code",
   "execution_count": 26,
   "metadata": {},
   "outputs": [
    {
     "name": "stdout",
     "output_type": "stream",
     "text": [
      "<method-wrapper '__add__' of tuple object at 0x00000280A5950048>\n",
      "<class 'tuple'>\n",
      "<method-wrapper '__contains__' of tuple object at 0x00000280A5950048>\n",
      "<method-wrapper '__delattr__' of tuple object at 0x00000280A5950048>\n",
      "<built-in method __dir__ of tuple object at 0x00000280A5950048>\n",
      "Built-in immutable sequence.\n",
      "\n",
      "If no argument is given, the constructor returns an empty tuple.\n",
      "If iterable is specified the tuple is initialized from iterable's items.\n",
      "\n",
      "If the argument is a tuple, the return value is the same object.\n",
      "<method-wrapper '__eq__' of tuple object at 0x00000280A5950048>\n",
      "<built-in method __format__ of tuple object at 0x00000280A5950048>\n",
      "<method-wrapper '__ge__' of tuple object at 0x00000280A5950048>\n",
      "<method-wrapper '__getattribute__' of tuple object at 0x00000280A5950048>\n",
      "<method-wrapper '__getitem__' of tuple object at 0x00000280A5950048>\n",
      "<built-in method __getnewargs__ of tuple object at 0x00000280A5950048>\n",
      "<method-wrapper '__gt__' of tuple object at 0x00000280A5950048>\n",
      "<method-wrapper '__hash__' of tuple object at 0x00000280A5950048>\n",
      "<method-wrapper '__init__' of tuple object at 0x00000280A5950048>\n",
      "<built-in method __init_subclass__ of type object at 0x00007FFB2DA66A10>\n",
      "<method-wrapper '__iter__' of tuple object at 0x00000280A5950048>\n",
      "<method-wrapper '__le__' of tuple object at 0x00000280A5950048>\n",
      "<method-wrapper '__len__' of tuple object at 0x00000280A5950048>\n",
      "<method-wrapper '__lt__' of tuple object at 0x00000280A5950048>\n",
      "<method-wrapper '__mul__' of tuple object at 0x00000280A5950048>\n",
      "<method-wrapper '__ne__' of tuple object at 0x00000280A5950048>\n",
      "<built-in method __new__ of type object at 0x00007FFB2DA66A10>\n",
      "<built-in method __reduce__ of tuple object at 0x00000280A5950048>\n",
      "<built-in method __reduce_ex__ of tuple object at 0x00000280A5950048>\n",
      "<method-wrapper '__repr__' of tuple object at 0x00000280A5950048>\n",
      "<method-wrapper '__rmul__' of tuple object at 0x00000280A5950048>\n",
      "<method-wrapper '__setattr__' of tuple object at 0x00000280A5950048>\n",
      "<built-in method __sizeof__ of tuple object at 0x00000280A5950048>\n",
      "<method-wrapper '__str__' of tuple object at 0x00000280A5950048>\n",
      "<built-in method __subclasshook__ of type object at 0x00007FFB2DA66A10>\n",
      "<built-in method count of tuple object at 0x00000280A5950048>\n",
      "<built-in method index of tuple object at 0x00000280A5950048>\n"
     ]
    }
   ],
   "source": [
    "#dynamically printing all attributes of tuple\n",
    "a = ()\n",
    "for x in dir(a)[:35]:\n",
    "    print(getattr(a,x))"
   ]
  },
  {
   "cell_type": "code",
   "execution_count": 27,
   "metadata": {},
   "outputs": [
    {
     "name": "stdout",
     "output_type": "stream",
     "text": [
      "count\n",
      "index\n"
     ]
    }
   ],
   "source": [
    "#dynamically printing all methods of tuple\n",
    "a = ()\n",
    "for x in dir(a)[31:34]:\n",
    "    print(x)"
   ]
  },
  {
   "cell_type": "code",
   "execution_count": 28,
   "metadata": {},
   "outputs": [
    {
     "name": "stdout",
     "output_type": "stream",
     "text": [
      "<class 'dict'>\n",
      "<built-in method __contains__ of dict object at 0x00000280A9F549D8>\n",
      "<method-wrapper '__delattr__' of dict object at 0x00000280A9F549D8>\n",
      "<method-wrapper '__delitem__' of dict object at 0x00000280A9F549D8>\n",
      "<built-in method __dir__ of dict object at 0x00000280A9F549D8>\n",
      "dict() -> new empty dictionary\n",
      "dict(mapping) -> new dictionary initialized from a mapping object's\n",
      "    (key, value) pairs\n",
      "dict(iterable) -> new dictionary initialized as if via:\n",
      "    d = {}\n",
      "    for k, v in iterable:\n",
      "        d[k] = v\n",
      "dict(**kwargs) -> new dictionary initialized with the name=value pairs\n",
      "    in the keyword argument list.  For example:  dict(one=1, two=2)\n",
      "<method-wrapper '__eq__' of dict object at 0x00000280A9F549D8>\n",
      "<built-in method __format__ of dict object at 0x00000280A9F549D8>\n",
      "<method-wrapper '__ge__' of dict object at 0x00000280A9F549D8>\n",
      "<method-wrapper '__getattribute__' of dict object at 0x00000280A9F549D8>\n",
      "<built-in method __getitem__ of dict object at 0x00000280A9F549D8>\n",
      "<method-wrapper '__gt__' of dict object at 0x00000280A9F549D8>\n",
      "None\n",
      "<method-wrapper '__init__' of dict object at 0x00000280A9F549D8>\n",
      "<built-in method __init_subclass__ of type object at 0x00007FFB2DA5B860>\n",
      "<method-wrapper '__iter__' of dict object at 0x00000280A9F549D8>\n",
      "<method-wrapper '__le__' of dict object at 0x00000280A9F549D8>\n",
      "<method-wrapper '__len__' of dict object at 0x00000280A9F549D8>\n",
      "<method-wrapper '__lt__' of dict object at 0x00000280A9F549D8>\n",
      "<method-wrapper '__ne__' of dict object at 0x00000280A9F549D8>\n",
      "<built-in method __new__ of type object at 0x00007FFB2DA5B860>\n",
      "<built-in method __reduce__ of dict object at 0x00000280A9F549D8>\n",
      "<built-in method __reduce_ex__ of dict object at 0x00000280A9F549D8>\n",
      "<method-wrapper '__repr__' of dict object at 0x00000280A9F549D8>\n",
      "<method-wrapper '__setattr__' of dict object at 0x00000280A9F549D8>\n",
      "<method-wrapper '__setitem__' of dict object at 0x00000280A9F549D8>\n",
      "<built-in method __sizeof__ of dict object at 0x00000280A9F549D8>\n",
      "<method-wrapper '__str__' of dict object at 0x00000280A9F549D8>\n",
      "<built-in method __subclasshook__ of type object at 0x00007FFB2DA5B860>\n"
     ]
    }
   ],
   "source": [
    "#dynamically printing all attributes of dictionary.\n",
    "a = {}\n",
    "for x in dir(a)[:29]:\n",
    "    print(getattr(a,x))"
   ]
  },
  {
   "cell_type": "code",
   "execution_count": 29,
   "metadata": {},
   "outputs": [
    {
     "name": "stdout",
     "output_type": "stream",
     "text": [
      "clear\n",
      "copy\n",
      "fromkeys\n",
      "get\n",
      "items\n",
      "keys\n",
      "pop\n",
      "popitem\n",
      "setdefault\n",
      "update\n",
      "values\n"
     ]
    }
   ],
   "source": [
    "#dynamically printing all methods of dictionary\n",
    "a = {}\n",
    "for x in dir(a)[29:40]:\n",
    "    print(x)"
   ]
  },
  {
   "cell_type": "markdown",
   "metadata": {},
   "source": [
    "# TUPLE"
   ]
  },
  {
   "cell_type": "code",
   "execution_count": 30,
   "metadata": {},
   "outputs": [
    {
     "name": "stdout",
     "output_type": "stream",
     "text": [
      "t1= ()\n",
      "t2= ('PIAIC', 'TEST', 'AI', 'CLASS', 'PRACTICE')\n",
      "t1= ('J', 'u', 'p', 'y', 't', 'e', 'r')\n",
      "t1= (1, 2)\n"
     ]
    }
   ],
   "source": [
    "#Tuple is an immutable sequence type.\n",
    "t1 = tuple()\n",
    "print('t1=', t1)\n",
    "\n",
    "# creating a tuple from a list\n",
    "t2 = tuple([\"PIAIC\", \"TEST\", \"AI\", \"CLASS\", \"PRACTICE\"])\n",
    "print('t2=', t2)\n",
    "\n",
    "# creating a tuple from a string\n",
    "t1 = tuple('Jupyter')\n",
    "print('t1=',t1)\n",
    "\n",
    "# creating a tuple from a dictionary\n",
    "t1 = tuple({1: 'one', 2: 'two'})\n",
    "print('t1=',t1)"
   ]
  },
  {
   "cell_type": "code",
   "execution_count": 31,
   "metadata": {},
   "outputs": [
    {
     "name": "stdout",
     "output_type": "stream",
     "text": [
      "Total Number of PIAIC in tuple: 1\n",
      "The index number of CLASS is: 3\n"
     ]
    }
   ],
   "source": [
    "#Methods of Tuple\n",
    "\n",
    "#The count() method returns the number of occurrences of an element in a tuple.\n",
    "\n",
    "t1 = ('PIAIC', 'TEST', 'AI', 'CLASS', 'PRACTICE')\n",
    "count = t1.count('PIAIC')\n",
    "print(\"Total Number of PIAIC in tuple:\", count)\n",
    "\n",
    "# The index() method searches an element in a tuple and returns its index.\n",
    "\n",
    "index = t1.index('CLASS')\n",
    "print(\"The index number of CLASS is:\", index)"
   ]
  },
  {
   "cell_type": "code",
   "execution_count": null,
   "metadata": {},
   "outputs": [],
   "source": []
  }
 ],
 "metadata": {
  "kernelspec": {
   "display_name": "Python 3",
   "language": "python",
   "name": "python3"
  },
  "language_info": {
   "codemirror_mode": {
    "name": "ipython",
    "version": 3
   },
   "file_extension": ".py",
   "mimetype": "text/x-python",
   "name": "python",
   "nbconvert_exporter": "python",
   "pygments_lexer": "ipython3",
   "version": "3.7.1"
  }
 },
 "nbformat": 4,
 "nbformat_minor": 2
}
